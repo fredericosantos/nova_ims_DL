{
 "cells": [
  {
   "cell_type": "code",
   "execution_count": 21,
   "metadata": {},
   "outputs": [],
   "source": [
    "# FLICKR API"
   ]
  },
  {
   "cell_type": "code",
   "execution_count": 1,
   "metadata": {},
   "outputs": [],
   "source": [
    "import flickrapi\n",
    "from urllib.request import urlretrieve\n",
    "from PIL import Image\n",
    "from tqdm import tqdm\n",
    "import argparse\n",
    "\n",
    "def downloader(key:str, secret:str, keyword:str, n_pics:int):\n",
    "    flickr = flickrapi.FlickrAPI(key, secret, cache=True)\n",
    "    photos = flickr.walk(text=keyword,\n",
    "                         tag_mode='all',\n",
    "                         tags=keyword,\n",
    "                         extras='url_c',\n",
    "                         per_page=100,           # may be you can try different numbers..\n",
    "                         sort='relevance')\n",
    "    \n",
    "    for i, photo in enumerate(photos):\n",
    "        if i > n_pics:\n",
    "            break\n",
    "        url = photo.get('url_c')\n",
    "        try:\n",
    "            urlretrieve(url, f'downloads/{keyword}/{keyword}_{i}.jpg')\n",
    "        except:\n",
    "            print(f'URL Invalid: {url} Skipping')\n",
    "            continue\n"
   ]
  },
  {
   "cell_type": "code",
   "execution_count": 3,
   "metadata": {},
   "outputs": [],
   "source": [
    "cities = [\"Forest daytime\", \"Forest night\"]\n",
    "n_images = 10\n",
    "for city in cities:\n",
    "    downloader(\"c6a2c45591d4973ff525042472446ca2\", \"202ffe6f387ce29b\", city, n_images)"
   ]
  },
  {
   "cell_type": "code",
   "execution_count": null,
   "metadata": {},
   "outputs": [],
   "source": []
  }
 ],
 "metadata": {
  "kernelspec": {
   "display_name": "Python [conda env:tensorflow]",
   "language": "python",
   "name": "conda-env-tensorflow-py"
  },
  "language_info": {
   "codemirror_mode": {
    "name": "ipython",
    "version": 3
   },
   "file_extension": ".py",
   "mimetype": "text/x-python",
   "name": "python",
   "nbconvert_exporter": "python",
   "pygments_lexer": "ipython3",
   "version": "3.8.5"
  }
 },
 "nbformat": 4,
 "nbformat_minor": 4
}
